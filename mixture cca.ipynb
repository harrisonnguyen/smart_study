{
 "cells": [
  {
   "cell_type": "markdown",
   "metadata": {},
   "source": [
    "We are looking at the paper titled \"variational bayesian mixture of robust CCA models\"\n",
    "http://download.springer.com/static/pdf/362/chp%253A10.1007%252F978-3-642-15939-8_24.pdf?originUrl=http%3A%2F%2Flink.springer.com%2Fchapter%2F10.1007%2F978-3-642-15939-8_24&token2=exp=1489635010~acl=%2Fstatic%2Fpdf%2F362%2Fchp%25253A10.1007%25252F978-3-642-15939-8_24.pdf%3ForiginUrl%3Dhttp%253A%252F%252Flink.springer.com%252Fchapter%252F10.1007%252F978-3-642-15939-8_24*~hmac=37b8f08524063e3b92ac5e29a65bd5dd311385e9e9e28b8532d0e7990ed27580"
   ]
  },
  {
   "cell_type": "code",
   "execution_count": 1,
   "metadata": {
    "collapsed": true
   },
   "outputs": [],
   "source": [
    "import edward as ed\n",
    "import numpy as np\n",
    "import tensorflow as tf\n",
    "import matplotlib.pyplot as plt\n",
    "ed.set_seed(42)\n",
    "%matplotlib inline"
   ]
  },
  {
   "cell_type": "markdown",
   "metadata": {},
   "source": [
    "# DATA"
   ]
  },
  {
   "cell_type": "code",
   "execution_count": 2,
   "metadata": {
    "collapsed": true
   },
   "outputs": [],
   "source": [
    "def plot_result(X,Y):\n",
    "    zero_class = np.where(Y[:, 0])\n",
    "    one_class = np.where(Y[:, 1])\n",
    "    plt.scatter(X[:, 0], X[:, 1], s=40, c='gray')\n",
    "    plt.scatter(X[zero_class, 0], X[zero_class, 1], s=160, edgecolors='b',\n",
    "                   facecolors='none', linewidths=2, label='Class 1')\n",
    "    plt.scatter(X[one_class, 0], X[one_class, 1], s=80, edgecolors='orange',\n",
    "                   facecolors='none', linewidths=2, label='Class 2')"
   ]
  },
  {
   "cell_type": "code",
   "execution_count": 3,
   "metadata": {
    "collapsed": false
   },
   "outputs": [
    {
     "data": {
      "image/png": "[encoded data removed]",
      "text/plain": [
       "<matplotlib.figure.Figure at 0x7f4b3ac0e090>"
      ]
     },
     "metadata": {},
     "output_type": "display_data"
    }
   ],
   "source": [
    "from sklearn.datasets import make_multilabel_classification\n",
    "X, Y = make_multilabel_classification(n_classes=2, n_labels=1,\n",
    "                                      allow_unlabeled=True,\n",
    "                                      random_state=1)\n",
    "plot_result(X,Y)"
   ]
  },
  {
   "cell_type": "markdown",
   "metadata": {},
   "source": [
    "# The model"
   ]
  },
  {
   "cell_type": "code",
   "execution_count": 4,
   "metadata": {
    "collapsed": false
   },
   "outputs": [],
   "source": [
    "from edward.models import Normal,Gamma, WishartFull, StudentT,Multinomial"
   ]
  },
  {
   "cell_type": "code",
   "execution_count": 5,
   "metadata": {
    "collapsed": false
   },
   "outputs": [],
   "source": [
    "#set useful global variables\n",
    "d1 = X.shape[1] #dimensionality of x\n",
    "d2 = Y.shape[1] #dimensionality of y"
   ]
  },
  {
   "cell_type": "code",
   "execution_count": 6,
   "metadata": {
    "collapsed": false
   },
   "outputs": [],
   "source": [
    "# set the hyper parameters\n",
    "a1 = 0.1\n",
    "b1 = 0.1\n",
    "a2 = 0.1\n",
    "b2 = 0.1\n",
    "gamma1 = d1 +1\n",
    "gamma2 = d2 + 1\n",
    "Phi1 = 100*np.eye(d1)\n",
    "Phi2 = 100*np.eye(d2)\n",
    "beta1 = 1\n",
    "beta2 = 1"
   ]
  },
  {
   "cell_type": "code",
   "execution_count": 7,
   "metadata": {
    "collapsed": false
   },
   "outputs": [],
   "source": [
    "#equation 2\n",
    "\n",
    "#the priors for the mean of the transformation\n",
    "mu1 = Normal(mu = np.zeros((d1,1)), sigma = beta1*np.eye(d1),name = 'mu1')\n",
    "mu2 = Normal(mu = np.zeros((d2,1)), sigma = beta2*np.eye(d2),name = 'mu2')\n",
    "\n",
    "#the priors of the covariance transformation\n",
    "Psi1 = WishartFull(df = gamma1, scale=Phi1,name = 'Psi1')\n",
    "Psi2 = WishartFull(df = gamma2, scale=Phi2,name = 'Psi2')\n",
    "\n",
    "#prior for alpha\n",
    "alpha1 = []\n",
    "for i in range(0,d1):\n",
    "    alpha1.append(Gamma(alpha = a1,beta = b1,name = 'alpha1' + str(i)))\n",
    "\n",
    "#distribution for w\n",
    "#w = Normal(mu = np.zeros((d1,1)),sigma = alpha1)"
   ]
  },
  {
   "cell_type": "code",
   "execution_count": 10,
   "metadata": {
    "collapsed": false
   },
   "outputs": [
    {
     "data": {
      "text/plain": [
       "<ed.RandomVariable 'alpha10/' shape=() dtype=tf.float32>"
      ]
     },
     "execution_count": 10,
     "metadata": {},
     "output_type": "execute_result"
    }
   ],
   "source": [
    "alpha1[0]"
   ]
  },
  {
   "cell_type": "code",
   "execution_count": 11,
   "metadata": {
    "collapsed": false
   },
   "outputs": [],
   "source": [
    "w = Normal(mu = 0.0,sigma = alpha1[0])"
   ]
  },
  {
   "cell_type": "code",
   "execution_count": null,
   "metadata": {
    "collapsed": true
   },
   "outputs": [],
   "source": []
  }
 ],
 "metadata": {
  "kernelspec": {
   "display_name": "Python 2",
   "language": "python",
   "name": "python2"
  },
  "language_info": {
   "codemirror_mode": {
    "name": "ipython",
    "version": 2
   },
   "file_extension": ".py",
   "mimetype": "text/x-python",
   "name": "python",
   "nbconvert_exporter": "python",
   "pygments_lexer": "ipython2",
   "version": "2.7.12"
  }
 },
 "nbformat": 4,
 "nbformat_minor": 1
}
